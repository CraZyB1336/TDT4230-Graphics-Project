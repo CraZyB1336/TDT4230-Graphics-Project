{
 "cells": [
  {
   "cell_type": "code",
   "execution_count": 4,
   "metadata": {},
   "outputs": [],
   "source": [
    "# Cubic easing function\n",
    "\n",
    "def cubic_ease_in_out(t):\n",
    "    if t < 0.5:\n",
    "        return 4 * t**3\n",
    "    else:\n",
    "        return 1 - 4 * (1 - t)**3"
   ]
  },
  {
   "cell_type": "code",
   "execution_count": 5,
   "metadata": {},
   "outputs": [
    {
     "name": "stdout",
     "output_type": "stream",
     "text": [
      "[0.         0.04938272 0.28395062 0.33333333 0.28395062 0.04938272\n",
      " 0.        ]\n"
     ]
    }
   ],
   "source": [
    "import numpy as np\n",
    "\n",
    "kernel_size = 7\n",
    "middle_index = kernel_size // 2\n",
    "\n",
    "t_values = np.linspace(0, 1, middle_index + 1)\n",
    "weights = [cubic_ease_in_out(t) for t in t_values]\n",
    "\n",
    "kernel = weights + weights[-2::-1]\n",
    "kernel = np.array(kernel)\n",
    "kernel /= kernel.sum()\n",
    "\n",
    "print(kernel)"
   ]
  },
  {
   "cell_type": "code",
   "execution_count": null,
   "metadata": {},
   "outputs": [],
   "source": []
  },
  {
   "cell_type": "code",
   "execution_count": null,
   "metadata": {},
   "outputs": [],
   "source": []
  }
 ],
 "metadata": {
  "kernelspec": {
   "display_name": "base",
   "language": "python",
   "name": "python3"
  },
  "language_info": {
   "codemirror_mode": {
    "name": "ipython",
    "version": 3
   },
   "file_extension": ".py",
   "mimetype": "text/x-python",
   "name": "python",
   "nbconvert_exporter": "python",
   "pygments_lexer": "ipython3",
   "version": "3.11.7"
  }
 },
 "nbformat": 4,
 "nbformat_minor": 2
}
