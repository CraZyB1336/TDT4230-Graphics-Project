{
 "cells": [
  {
   "cell_type": "code",
   "execution_count": 32,
   "metadata": {},
   "outputs": [],
   "source": [
    "import numpy as np\n",
    "\n",
    "# Cubic easing function\n",
    "def cubic_ease_in_out(t):\n",
    "    if t < 0.5:\n",
    "        return 4 * t**3\n",
    "    else:\n",
    "        return 1 - 4 * (1 - t)**3\n",
    "    \n",
    "def print_for_shader(kernel):\n",
    "    print(\"float[](\", end=\"\")\n",
    "    for index, el in enumerate(kernel):\n",
    "        if index == len(kernel) - 1:\n",
    "            print(f\"{el:.2f}\", end=\");\\n\")\n",
    "        else:\n",
    "            print(f\"{el:.2f}\", end=\", \")"
   ]
  },
  {
   "cell_type": "code",
   "execution_count": 35,
   "metadata": {},
   "outputs": [
    {
     "name": "stdout",
     "output_type": "stream",
     "text": [
      "float[](0.40, 0.38, 0.20, 0.03, 0.00);\n",
      "Len of array: 5\n",
      "Sum of array: 1.0\n"
     ]
    }
   ],
   "source": [
    "\n",
    "kernel_size = 8\n",
    "middle_index = kernel_size // 2\n",
    "\n",
    "t_values = np.linspace(0, 1, middle_index + 1)\n",
    "weights = [cubic_ease_in_out(t) for t in t_values]\n",
    "\n",
    "kernel = weights[::-1]\n",
    "kernel = np.array(kernel)\n",
    "kernel /= kernel.sum()\n",
    "\n",
    "print_for_shader(kernel)\n",
    "print(f\"Len of array: {len(kernel)}\")\n",
    "print(f\"Sum of array: {kernel.sum()}\")"
   ]
  },
  {
   "cell_type": "code",
   "execution_count": 7,
   "metadata": {},
   "outputs": [
    {
     "name": "stdout",
     "output_type": "stream",
     "text": [
      "ඞ\n"
     ]
    }
   ],
   "source": [
    "# Suspicious\n",
    "print(chr(sum(range(ord(min(str(not())))))))"
   ]
  },
  {
   "cell_type": "code",
   "execution_count": null,
   "metadata": {},
   "outputs": [],
   "source": []
  }
 ],
 "metadata": {
  "kernelspec": {
   "display_name": "base",
   "language": "python",
   "name": "python3"
  },
  "language_info": {
   "codemirror_mode": {
    "name": "ipython",
    "version": 3
   },
   "file_extension": ".py",
   "mimetype": "text/x-python",
   "name": "python",
   "nbconvert_exporter": "python",
   "pygments_lexer": "ipython3",
   "version": "3.11.7"
  }
 },
 "nbformat": 4,
 "nbformat_minor": 2
}
